{
 "cells": [
  {
   "cell_type": "markdown",
   "metadata": {},
   "source": [
    "# 🐜 YOLOv12 Ant Auto Annotator (Frontend)"
   ]
  },
  {
   "cell_type": "code",
   "execution_count": null,
   "metadata": {},
   "outputs": [],
   "source": [
    "# 📦 Imports
",
    "from backend_auto_annotator_yolov12 import run_annotation
",
    "import os"
   ]
  },
  {
   "cell_type": "code",
   "execution_count": null,
   "metadata": {},
   "outputs": [],
   "source": [
    "# 📁 Set Paths and Parameters
",
    "dataset_dir = input("Enter path to dataset folder: ").strip()
",
    "model_path = input("Enter path to YOLOv12 model (e.g., yolov12m.pt): ").strip()
",
    "confidence = float(input("Enter confidence threshold (e.g., 0.5): "))"
   ]
  },
  {
   "cell_type": "code",
   "execution_count": null,
   "metadata": {},
   "outputs": [],
   "source": [
    "# ▶️ Run Auto Annotation
",
    "run_annotation(dataset_root=dataset_dir, model_path=model_path, confidence=confidence)"
   ]
  },
  {
   "cell_type": "code",
   "execution_count": null,
   "metadata": {},
   "outputs": [],
   "source": [
    "# 🧭 (Optional) Launch labelImg to verify annotations
",
    "# Make sure labelImg is installed: pip install labelImg
",
    "try:
",
    "    species_folders = [f for f in os.listdir(dataset_dir) if os.path.isdir(os.path.join(dataset_dir, f))]
",
    "    if species_folders:
",
    "        first_annot_folder = os.path.join(dataset_dir, species_folders[0], "annotations")
",
    "        print(f"Launching labelImg on: {first_annot_folder}")
",
    "        !labelImg {first_annot_folder}
",
    "    else:
",
    "        print("[!] No species folders found.")
",
    "except Exception as e:
",
    "    print("[!] Could not launch labelImg:", e)"
   ]
  }
 ],
 "metadata": {
  "kernelspec": {
   "display_name": "Python 3",
   "language": "python",
   "name": "python3"
  },
  "language_info": {
   "name": "python",
   "version": ""
  }
 },
 "nbformat": 4,
 "nbformat_minor": 2
}
